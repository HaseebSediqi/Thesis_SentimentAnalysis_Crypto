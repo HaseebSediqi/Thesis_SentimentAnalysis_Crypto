{
 "cells": [
  {
   "cell_type": "code",
   "execution_count": 2,
   "id": "06d6e01b-d1e3-4a33-89e8-cafbdef2033c",
   "metadata": {
    "execution": {
     "iopub.execute_input": "2025-02-14T22:08:06.093556Z",
     "iopub.status.busy": "2025-02-14T22:08:06.093347Z",
     "iopub.status.idle": "2025-02-14T22:08:06.421949Z",
     "shell.execute_reply": "2025-02-14T22:08:06.421292Z",
     "shell.execute_reply.started": "2025-02-14T22:08:06.093538Z"
    }
   },
   "outputs": [],
   "source": [
    "import nltk\n",
    "import os\n",
    "import emoji\n",
    "import pandas as pd\n",
    "from nltk.corpus import stopwords\n",
    "from nltk.tokenize import word_tokenize\n",
    "from nltk.stem import WordNetLemmatizer, PorterStemmer\n",
    "from nltk import pos_tag\n",
    "from nltk.corpus import stopwords\n",
    "from nltk.stem import WordNetLemmatizer\n",
    "from nltk.tokenize import word_tokenize\n",
    "from nltk.tokenize import PunktTokenizer\n",
    "import emoji\n",
    "import pandas as pd\n",
    "from keywords import ALL_KEYWORDS"
   ]
  },
  {
   "cell_type": "code",
   "execution_count": 4,
   "id": "eeae608d-6a50-4a58-bb9c-5e655c38a0fa",
   "metadata": {
    "execution": {
     "iopub.execute_input": "2025-02-14T22:08:23.192956Z",
     "iopub.status.busy": "2025-02-14T22:08:23.192701Z",
     "iopub.status.idle": "2025-02-14T22:08:23.196206Z",
     "shell.execute_reply": "2025-02-14T22:08:23.195520Z",
     "shell.execute_reply.started": "2025-02-14T22:08:23.192936Z"
    }
   },
   "outputs": [],
   "source": [
    "# Ensure NLTK resources are available\n",
    "nltk.download('wordnet')\n",
    "nltk.download('omw-1.4')\n",
    "nltk.download('stopwords')\n",
    "nltk.download('punkt')\n",
    "nltk.download('averaged_perceptron_tagger')\n"
   ]
  },
  {
   "cell_type": "code",
   "execution_count": 9,
   "id": "99ea5458-4a0d-4253-8889-db7cc35e91ed",
   "metadata": {
    "execution": {
     "iopub.execute_input": "2025-02-14T22:10:43.240370Z",
     "iopub.status.busy": "2025-02-14T22:10:43.240090Z",
     "iopub.status.idle": "2025-02-14T22:10:44.147557Z",
     "shell.execute_reply": "2025-02-14T22:10:44.146919Z",
     "shell.execute_reply.started": "2025-02-14T22:10:43.240347Z"
    }
   },
   "outputs": [],
   "source": [
    "# Load the dataset\n",
    "df = pd.read_csv(\"/notebooks/tweets.csv\")"
   ]
  },
  {
   "cell_type": "code",
   "execution_count": null,
   "id": "72f39cc8-921e-4a9c-9bb7-70f523da110e",
   "metadata": {},
   "outputs": [],
   "source": [
    "nltk.data.path.append('Desktop/Thesis/nltk_data')\n",
    "\n",
    "nltk.data.path.append('Desktop/Thesis/stopwords')\n",
    "\n",
    "# Set the NLTK data path explicitly\n",
    "nltk_data_path = \"/Users/nltk_data\"\n",
    "os.makedirs(nltk_data_path, exist_ok=True)\n",
    "nltk.data.path.append(nltk_data_path)\n",
    "\n",
    "# Drop missing values in the 'text' column\n",
    "df.dropna(subset=['text'], inplace=True)\n",
    "\n",
    "# Remove duplicate tweets\n",
    "df.drop_duplicates(subset=['text'], inplace=True)\n",
    "\n",
    "# Convert text to lowercase\n",
    "df['text'] = df['text'].str.lower()\n",
    "\n",
    "# Remove URLs, mentions (@usernames), hashtags, and special characters (except $ for financial context)\n",
    "df['text'] = df['text'].replace(r'http\\S+|www.\\S+', '', regex=True)  # Remove URLs\n",
    "df['text'] = df['text'].replace(r'@\\w+|#\\w+', '', regex=True)  # Remove mentions and hashtags\n",
    "df['text'] = df['text'].replace(r'[^\\w\\s$]', '', regex=True)  # Keep words and '$' symbols\n",
    "df['text'] = df['text'].replace(r'\\s+', ' ', regex=True).str.strip()  # Remove extra spaces\n",
    "\n",
    "# Tokenization (Explicit)\n",
    "df['tokens'] = df['text'].apply(word_tokenize)\n",
    "\n",
    "# Remove stopwords\n",
    "stop_words = set(stopwords.words('english'))\n",
    "df['tokens'] = df['tokens'].apply(lambda x: [word for word in x if word not in stop_words])\n",
    "\n",
    "# Convert Emojis to Text\n",
    "df['tokens'] = df['tokens'].apply(lambda x: [emoji.demojize(word) for word in x])\n",
    "\n",
    "# Part-of-Speech (POS) Tagging\n",
    "df['pos_tags'] = df['tokens'].apply(pos_tag)\n",
    "\n",
    "# Lemmatization with POS Tagging\n",
    "lemmatizer = WordNetLemmatizer()\n",
    "def lemmatize_with_pos(tagged_tokens):\n",
    "    pos_map = {'N': 'n', 'V': 'v', 'J': 'a', 'R': 'r'}  # Mapping POS tags to WordNet format\n",
    "    return [lemmatizer.lemmatize(word, pos=pos_map.get(tag[0], 'n')) for word, tag in tagged_tokens]\n",
    "\n",
    "df['lemmatized_tokens'] = df['pos_tags'].apply(lemmatize_with_pos)\n",
    "\n",
    "# Optional: Stemming (Uncomment if needed)\n",
    "stemmer = PorterStemmer()\n",
    "df['stemmed_tokens'] = df['lemmatized_tokens'].apply(lambda x: [stemmer.stem(word) for word in x])\n",
    "\n",
    "# Convert tokens back to text\n",
    "df['cleaned_text'] = df['lemmatized_tokens'].apply(lambda x: ' '.join(x))\n",
    "\n",
    "# Save cleaned data\n",
    "cleaned_file_path = \"/notebooks/clean_7days_tweets.csv\"\n",
    "df.to_csv(cleaned_file_path, index=False)\n",
    "\n",
    "print(f\"Preprocessing complete. Cleaned file saved at: {cleaned_file_path}\")"
   ]
  },
  {
   "cell_type": "code",
   "execution_count": 10,
   "id": "00cd4ac4-e31a-4bca-a187-945f3a03b7c0",
   "metadata": {
    "execution": {
     "iopub.execute_input": "2025-02-14T22:13:15.502858Z",
     "iopub.status.busy": "2025-02-14T22:13:15.502179Z",
     "iopub.status.idle": "2025-02-14T22:16:44.676644Z",
     "shell.execute_reply": "2025-02-14T22:16:44.675915Z",
     "shell.execute_reply.started": "2025-02-14T22:13:15.502835Z"
    }
   },
   "outputs": [
    {
     "name": "stdout",
     "output_type": "stream",
     "text": [
      "Preprocessing complete. Cleaned file saved at: /notebooks/clean_7days_tweets.csv\n"
     ]
    }
   ],
   "source": [
    "\n"
   ]
  }
 ],
 "metadata": {
  "kernelspec": {
   "display_name": "Python 3 (ipykernel)",
   "language": "python",
   "name": "python3"
  },
  "language_info": {
   "codemirror_mode": {
    "name": "ipython",
    "version": 3
   },
   "file_extension": ".py",
   "mimetype": "text/x-python",
   "name": "python",
   "nbconvert_exporter": "python",
   "pygments_lexer": "ipython3",
   "version": "3.11.7"
  }
 },
 "nbformat": 4,
 "nbformat_minor": 5
}
